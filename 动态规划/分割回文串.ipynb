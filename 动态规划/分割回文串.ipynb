{
 "cells": [
  {
   "cell_type": "code",
   "execution_count": null,
   "metadata": {
    "collapsed": true
   },
   "outputs": [],
   "source": [
    "class Solution(object):\n",
    "    def partition(self, s):\n",
    "        \"\"\"\n",
    "        :type s: str\n",
    "        :rtype: List[List[str]]\n",
    "        \"\"\"\n",
    "        n = len(s)\n",
    "\n",
    "        ret = list()\n",
    "        ans = list()\n",
    "\n",
    "        def isPalindrome(i, j):\n",
    "            if i >= j:\n",
    "                return 1\n",
    "            return isPalindrome(i + 1, j - 1) if s[i] == s[j] else -1\n",
    "\n",
    "        def dfs(i):\n",
    "            if i == n:\n",
    "                ret.append(ans[:])\n",
    "                return\n",
    "\n",
    "            for j in range(i, n):\n",
    "                if isPalindrome(i, j) == 1:\n",
    "                    ans.append(s[i:j + 1])\n",
    "                    dfs(j + 1)\n",
    "                    ans.pop()\n",
    "\n",
    "        dfs(0)\n",
    "        return ret\n",
    "\n",
    "    def partition1(self, s):\n",
    "        n = len(s)\n",
    "        f = [[True] * n for _ in range(n)]\n",
    "\n",
    "        for i in range(n - 1, -1, -1):\n",
    "            for j in range(i + 1, n):\n",
    "                f[i][j] = (s[i] == s[j]) and f[i + 1][j - 1]\n",
    "\n",
    "        ret = list()\n",
    "        ans = list()\n",
    "\n",
    "        def dfs(i):\n",
    "            if i == n:\n",
    "                ret.append(ans[:])\n",
    "                return\n",
    "\n",
    "            for j in range(i, n):\n",
    "                if f[i][j]:\n",
    "                    ans.append(s[i:j + 1])\n",
    "                    dfs(j + 1)\n",
    "                    ans.pop()\n",
    "\n",
    "        dfs(0)\n",
    "        return ret\n",
    "if __name__ == '__main__':\n",
    "    s = 'abababab'\n",
    "    print(Solution().partition1(s))"
   ]
  },
  {
   "cell_type": "markdown",
   "source": [
    "由于需要求出字符串 ss 的所有分割方案，因此我们考虑使用搜索 + 回溯的方法枚举所有可能的分割方法并进行判断。\n",
    "\n",
    "假设我们当前搜索到字符串的第 ii 个字符，且 s[0..i-1]s[0..i−1] 位置的所有字符已经被分割成若干个回文串，并且分割结果被放入了答案数组 \\textit{ans}ans 中，那么我们就需要枚举下一个回文串的右边界 jj，使得 s[i..j]s[i..j] 是一个回文串。\n",
    "\n",
    "因此，我们可以从 i 开始，从小到大依次枚举 j。对于当前枚举的 j 值，我们使用双指针的方法判断 s[i..j]s[i..j] 是否为回文串：如果 s[i..j]s[i..j] 是回文串，那么就将其加入答案数组 ans 中，并以 j+1 作为新的 i 进行下一层搜索，并在未来的回溯时将 s[i..j]s[i..j] 从 ans 中移除。\n",
    "\n",
    "如果我们已经搜索完了字符串的最后一个字符，那么就找到了一种满足要求的分割方法。\n",
    "\n",
    "细节\n",
    "\n",
    "```\n",
    "当我们在判断 s[i..j]s[i..j] 是否为回文串时，常规的方法是使用双指针分别指向 ii 和 jj，每次判断两个指针指向的字符是否相同，直到两个指针相遇。然而这种方法会产生重复计算，例如下面这个例子：\n",
    "\n",
    "当 s=aaba 时，对于前 22 个字符 aa，我们有 2 种分割方法[aa] 和 [a, a][a,a]，当我们每一次搜索到字符串的第 i=2 个字符 b 时，都需要对于每个 s[i..j]s[i..j] 使用双指针判断其是否为回文串，这就产生了重复计算。\n",
    "\n",
    "因此，我们可以将字符串 ss 的每个子串 s[i..j]s[i..j] 是否为回文串预处理出来，使用动态规划即可。设 f(i, j)f(i,j) 表示 s[i..j]s[i..j] 是否为回文串，那么有状态转移方程：\n",
    "```\n",
    "![回溯](https://pic.leetcode-cn.com/298a80282ac3505fec3710abdc1e656c591cf7acaa3ba976151480729244b649-image.png)"
   ],
   "metadata": {
    "collapsed": false
   }
  }
 ],
 "metadata": {
  "kernelspec": {
   "display_name": "Python 3",
   "language": "python",
   "name": "python3"
  },
  "language_info": {
   "codemirror_mode": {
    "name": "ipython",
    "version": 2
   },
   "file_extension": ".py",
   "mimetype": "text/x-python",
   "name": "python",
   "nbconvert_exporter": "python",
   "pygments_lexer": "ipython2",
   "version": "2.7.6"
  }
 },
 "nbformat": 4,
 "nbformat_minor": 0
}